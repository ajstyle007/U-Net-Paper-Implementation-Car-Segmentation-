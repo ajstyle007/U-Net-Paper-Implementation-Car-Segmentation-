{
 "cells": [
  {
   "cell_type": "code",
   "execution_count": 17,
   "id": "063a3d1a-e81b-448c-a454-ab409f5676cc",
   "metadata": {},
   "outputs": [],
   "source": [
    "import cv2\n",
    "import albumentations as A\n",
    "import os"
   ]
  },
  {
   "cell_type": "code",
   "execution_count": 2,
   "id": "b8d48699-c8b1-45f7-8880-f4ca285df222",
   "metadata": {},
   "outputs": [],
   "source": [
    "# Folders\n",
    "image_dir = \"train_images\"\n",
    "mask_dir = \"train_masks_fixed\"\n",
    "aug_image_dir = \"aug_images\"\n",
    "aug_mask_dir = \"aug_masks\""
   ]
  },
  {
   "cell_type": "code",
   "execution_count": 9,
   "id": "f6da6a45-f083-4815-9bd8-007dc49253da",
   "metadata": {},
   "outputs": [],
   "source": [
    "# Create output dirs\n",
    "os.makedirs(aug_image_dir, exist_ok=True)\n",
    "os.makedirs(aug_mask_dir, exist_ok=True)"
   ]
  },
  {
   "cell_type": "code",
   "execution_count": 4,
   "id": "4f0c4718-f93a-4bd7-87d8-154bb3d70b83",
   "metadata": {},
   "outputs": [
    {
     "name": "stderr",
     "output_type": "stream",
     "text": [
      "C:\\Users\\kumar\\AppData\\Local\\Programs\\Python\\Python312\\Lib\\site-packages\\albumentations\\core\\validation.py:114: UserWarning: ShiftScaleRotate is a special case of Affine transform. Please use Affine transform instead.\n",
      "  original_init(self, **validated_kwargs)\n"
     ]
    }
   ],
   "source": [
    "# Define augmentation pipeline\n",
    "train_transform = A.Compose([\n",
    "    A.HorizontalFlip(p=0.5),\n",
    "    A.RandomRotate90(p=0.5),\n",
    "    A.RandomBrightnessContrast(p=0.5),\n",
    "    A.RandomGamma(p=0.3),\n",
    "    A.GaussNoise(p=0.2),\n",
    "    A.Blur(blur_limit=3, p=0.2),\n",
    "    A.ShiftScaleRotate(shift_limit=0.1, scale_limit=0.1, rotate_limit=15, p=0.5),\n",
    "    A.Resize(512, 512),\n",
    "])"
   ]
  },
  {
   "cell_type": "code",
   "execution_count": 10,
   "id": "ae365146-c7f9-46c8-9e47-72a46164bd32",
   "metadata": {},
   "outputs": [
    {
     "name": "stdout",
     "output_type": "stream",
     "text": [
      "Augmentation done! All images saved in aug_images/ and aug_masks/\n"
     ]
    }
   ],
   "source": [
    "# Loop through images and masks\n",
    "for filename in os.listdir(image_dir):\n",
    "    if filename.endswith(\".jpg\"):\n",
    "        img_path = os.path.join(image_dir, filename)\n",
    "        mask_path = os.path.join(mask_dir, filename.replace(\".jpg\", \".png\"))  # mask has same name but .png\n",
    "\n",
    "        image = cv2.imread(img_path)\n",
    "        mask = cv2.imread(mask_path, cv2.IMREAD_GRAYSCALE)  # mask is grayscale\n",
    "\n",
    "        # Generate N augmentations per image\n",
    "        for i in range(5):   # <--- 5x augmentations\n",
    "            augmented = train_transform(image=image, mask=mask)\n",
    "            aug_img = augmented['image']\n",
    "            aug_mask = augmented['mask']\n",
    "\n",
    "            # Save with new names\n",
    "            aug_img_name = f\"{os.path.splitext(filename)[0]}_aug{i}.jpg\"\n",
    "            aug_mask_name = f\"{os.path.splitext(filename)[0]}_aug{i}.png\"\n",
    "\n",
    "            cv2.imwrite(os.path.join(aug_image_dir, aug_img_name), aug_img)\n",
    "            cv2.imwrite(os.path.join(aug_mask_dir, aug_mask_name), aug_mask)\n",
    "\n",
    "print(\"Augmentation done! All images saved in aug_images/ and aug_masks/\")"
   ]
  },
  {
   "cell_type": "code",
   "execution_count": 3,
   "id": "e5b9f11f-563a-473d-bf2f-e6a129f118a4",
   "metadata": {},
   "outputs": [
    {
     "name": "stdout",
     "output_type": "stream",
     "text": [
      "Total images: 25438\n",
      "Validation set created with 1000 samples\n"
     ]
    }
   ],
   "source": [
    "import os\n",
    "import random\n",
    "import shutil\n",
    "\n",
    "# Paths\n",
    "image_dir = \"aug_images\"\n",
    "mask_dir = \"aug_masks\"\n",
    "val_image_dir = \"val_images\"\n",
    "val_mask_dir = \"val_masks\"\n",
    "\n",
    "# Make val dirs\n",
    "os.makedirs(val_image_dir, exist_ok=True)\n",
    "os.makedirs(val_mask_dir, exist_ok=True)\n",
    "\n",
    "# Get all image names (assuming filenames match between images & masks)\n",
    "all_images = [f for f in os.listdir(image_dir) if f.endswith(\".jpg\")]\n",
    "print(\"Total images:\", len(all_images))\n",
    "\n",
    "# Pick 1000 random samples\n",
    "val_samples = random.sample(all_images, 1000)\n",
    "\n",
    "# Move or copy them to val set\n",
    "for img in val_samples:\n",
    "    mask_name = img.replace(\".jpg\", \".png\")  # adjust if naming is different\n",
    "    \n",
    "    shutil.copy(os.path.join(image_dir, img), os.path.join(val_image_dir, img))\n",
    "    shutil.copy(os.path.join(mask_dir, mask_name), os.path.join(val_mask_dir, mask_name))\n",
    "\n",
    "print(\"Validation set created with\", len(val_samples), \"samples\")"
   ]
  },
  {
   "cell_type": "code",
   "execution_count": 5,
   "id": "db7d5c3c-3dd8-492d-a4d6-6c554506bfb3",
   "metadata": {},
   "outputs": [
    {
     "name": "stdout",
     "output_type": "stream",
     "text": [
      "1002 1000\n"
     ]
    }
   ],
   "source": [
    "import os\n",
    "\n",
    "val_images = sorted([f for f in os.listdir(\"val_images\") if f.endswith(\".jpg\")])\n",
    "val_masks = sorted([f for f in os.listdir(\"val_masks\") if f.endswith(\".png\")])\n",
    "\n",
    "print(len(val_images), len(val_masks))"
   ]
  },
  {
   "cell_type": "code",
   "execution_count": 6,
   "id": "4532dd45-cb7d-4a31-b021-2a3dc7c8c002",
   "metadata": {},
   "outputs": [
    {
     "name": "stdout",
     "output_type": "stream",
     "text": [
      "Images without masks: {'c9f382c7349e_01_aug3', 'acb0fd30b83d_01_aug3'}\n",
      "Masks without images: set()\n"
     ]
    }
   ],
   "source": [
    "img_names = set([os.path.splitext(f)[0] for f in val_images])\n",
    "mask_names = set([os.path.splitext(f)[0] for f in val_masks])\n",
    "\n",
    "print(\"Images without masks:\", img_names - mask_names)\n",
    "print(\"Masks without images:\", mask_names - img_names)"
   ]
  },
  {
   "cell_type": "code",
   "execution_count": 9,
   "id": "77885d2b-f710-4726-b5d4-e02036dde631",
   "metadata": {},
   "outputs": [],
   "source": [
    "import numpy as np\n",
    "from PIL import Image\n",
    "\n",
    "def convert_mask(mask_path, save_path):\n",
    "    mask = np.array(Image.open(mask_path).convert(\"RGB\"))\n",
    "\n",
    "    # Everything that is NOT white becomes 1\n",
    "    binary_mask = np.any(mask != [255, 255, 255], axis=-1).astype(np.uint8)\n",
    "\n",
    "    # Save as 0 (black) and 255 (white)\n",
    "    Image.fromarray(binary_mask * 255).save(save_path)"
   ]
  },
  {
   "cell_type": "code",
   "execution_count": 13,
   "id": "89940c71-556d-4a43-bc22-2bca5f143a18",
   "metadata": {},
   "outputs": [
    {
     "name": "stdout",
     "output_type": "stream",
     "text": [
      "✅ Conversion finished! Binary masks saved.\n"
     ]
    }
   ],
   "source": [
    "import os\n",
    "# Paths\n",
    "input_mask_dir = \"cars/masks\"       # your downloaded dataset masks\n",
    "output_mask_dir = \"cars/new_masks\"\n",
    "\n",
    "# Make sure output folder exists\n",
    "os.makedirs(output_mask_dir, exist_ok=True)\n",
    "\n",
    "for filename in os.listdir(input_mask_dir):\n",
    "    if filename.endswith(\".png\") or filename.endswith(\".jpg\"):\n",
    "        in_path = os.path.join(input_mask_dir, filename)\n",
    "        out_path = os.path.join(output_mask_dir, filename)\n",
    "        convert_mask(in_path, out_path)\n",
    "\n",
    "print(\"✅ Conversion finished! Binary masks saved.\")"
   ]
  },
  {
   "cell_type": "code",
   "execution_count": 20,
   "id": "3d4992c2-603e-4026-9565-44be6978d3b7",
   "metadata": {},
   "outputs": [
    {
     "name": "stderr",
     "output_type": "stream",
     "text": [
      "C:\\Users\\kumar\\AppData\\Local\\Temp\\ipykernel_22300\\36687930.py:14: UserWarning: Argument(s) 'max_holes, max_height, max_width' are not valid for transform CoarseDropout\n",
      "  A.CoarseDropout(max_holes=8, max_height=32, max_width=32, p=0.3),\n"
     ]
    }
   ],
   "source": [
    "train_transform = A.Compose([\n",
    "    A.HorizontalFlip(p=0.5),\n",
    "    A.VerticalFlip(p=0.2),\n",
    "    A.RandomRotate90(p=0.5),\n",
    "    A.ShiftScaleRotate(shift_limit=0.1, scale_limit=0.1, rotate_limit=15, p=0.5),\n",
    "    \n",
    "    A.RandomBrightnessContrast(p=0.5),\n",
    "    A.RandomGamma(p=0.3),\n",
    "    A.HueSaturationValue(p=0.3),\n",
    "    \n",
    "    A.GaussNoise(p=0.2),\n",
    "    A.Blur(blur_limit=3, p=0.2),\n",
    "    A.ElasticTransform(p=0.1),\n",
    "    A.CoarseDropout(max_holes=8, max_height=32, max_width=32, p=0.3),\n",
    "    \n",
    "    A.Resize(512, 512),\n",
    "], additional_targets={'mask': 'mask'})  # ensures mask handled correctly"
   ]
  },
  {
   "cell_type": "code",
   "execution_count": 23,
   "id": "47975671-40c4-4f20-a377-56306f36589a",
   "metadata": {},
   "outputs": [],
   "source": [
    "# Folders\n",
    "image_dir = \"cars/img\"\n",
    "mask_dir = \"cars/new_masks\"\n",
    "aug_image_dir = \"cars/aug_images_new\"\n",
    "aug_mask_dir = \"cars/aug_masks_new\""
   ]
  },
  {
   "cell_type": "code",
   "execution_count": 24,
   "id": "8cc509ba-5ecf-41ab-8303-b81e5184b5c7",
   "metadata": {},
   "outputs": [],
   "source": [
    "os.makedirs(aug_image_dir, exist_ok=True)\n",
    "os.makedirs(aug_mask_dir, exist_ok=True)"
   ]
  },
  {
   "cell_type": "code",
   "execution_count": 25,
   "id": "ea544ca3-232f-4fe1-94a0-00bde770b927",
   "metadata": {},
   "outputs": [
    {
     "name": "stdout",
     "output_type": "stream",
     "text": [
      "Augmentation done! All images saved in aug_images/ and aug_masks/\n"
     ]
    }
   ],
   "source": [
    "# Loop through images and masks\n",
    "for filename in os.listdir(image_dir):\n",
    "    if filename.endswith(\".jpg\"):\n",
    "        img_path = os.path.join(image_dir, filename)\n",
    "        mask_path = os.path.join(mask_dir, filename.replace(\".jpg\", \".png\"))  # mask has same name but .png\n",
    "\n",
    "        image = cv2.imread(img_path)\n",
    "        mask = cv2.imread(mask_path, cv2.IMREAD_GRAYSCALE)  # mask is grayscale\n",
    "\n",
    "        # Generate N augmentations per image\n",
    "        for i in range(30):   # <--- 5x augmentations\n",
    "            augmented = train_transform(image=image, mask=mask)\n",
    "            aug_img = augmented['image']\n",
    "            aug_mask = augmented['mask']\n",
    "\n",
    "            # Save with new names\n",
    "            aug_img_name = f\"{os.path.splitext(filename)[0]}_aug{i}.jpg\"\n",
    "            aug_mask_name = f\"{os.path.splitext(filename)[0]}_aug{i}.png\"\n",
    "\n",
    "            cv2.imwrite(os.path.join(aug_image_dir, aug_img_name), aug_img)\n",
    "            cv2.imwrite(os.path.join(aug_mask_dir, aug_mask_name), aug_mask)\n",
    "\n",
    "print(\"Augmentation done! All images saved in aug_images/ and aug_masks/\")"
   ]
  },
  {
   "cell_type": "code",
   "execution_count": 27,
   "id": "980d168d-23bc-4640-8516-211a9b467502",
   "metadata": {},
   "outputs": [
    {
     "name": "stdout",
     "output_type": "stream",
     "text": [
      "✅ Moved 1000 images and masks to validation set\n"
     ]
    }
   ],
   "source": [
    "import os\n",
    "import random\n",
    "import shutil\n",
    "\n",
    "# Paths\n",
    "train_images_dir = \"aug_images\"\n",
    "train_masks_dir = \"aug_masks\"\n",
    "\n",
    "val_images_dir = \"val_images\"\n",
    "val_masks_dir = \"val_masks\"\n",
    "\n",
    "# Create validation folders if not exist\n",
    "os.makedirs(val_images_dir, exist_ok=True)\n",
    "os.makedirs(val_masks_dir, exist_ok=True)\n",
    "\n",
    "# Create validation folders if not exist\n",
    "os.makedirs(val_images_dir, exist_ok=True)\n",
    "os.makedirs(val_masks_dir, exist_ok=True)\n",
    "\n",
    "# List of all images (only jpg/jpeg/png)\n",
    "all_images = [f for f in os.listdir(train_images_dir) if f.endswith((\".jpg\", \".jpeg\", \".png\"))]\n",
    "\n",
    "# Shuffle and select 1000 for validation\n",
    "random.shuffle(all_images)\n",
    "val_images = all_images[:1000]\n",
    "\n",
    "for img in val_images:\n",
    "    base_name, _ = os.path.splitext(img)   # remove extension\n",
    "    \n",
    "    # image src/dst\n",
    "    img_src = os.path.join(train_images_dir, img)\n",
    "    img_dst = os.path.join(val_images_dir, img)\n",
    "    \n",
    "    # mask (always .png)\n",
    "    mask_name = f\"{base_name}.png\"\n",
    "    mask_src = os.path.join(train_masks_dir, mask_name)\n",
    "    mask_dst = os.path.join(val_masks_dir, mask_name)\n",
    "    \n",
    "    # move\n",
    "    shutil.move(img_src, img_dst)\n",
    "    shutil.move(mask_src, mask_dst)\n",
    "\n",
    "print(f\"✅ Moved {len(val_images)} images and masks to validation set\")"
   ]
  },
  {
   "cell_type": "code",
   "execution_count": 32,
   "id": "0633235f-6d80-4769-87c2-61a2fd5032d1",
   "metadata": {},
   "outputs": [
    {
     "name": "stdout",
     "output_type": "stream",
     "text": [
      "25037 25040\n"
     ]
    }
   ],
   "source": [
    "val_images = sorted([f for f in os.listdir(\"aug_images\") if f.endswith(\".jpg\")])\n",
    "val_masks = sorted([f for f in os.listdir(\"aug_masks\") if f.endswith(\".png\")])\n",
    "\n",
    "print(len(val_images), len(val_masks))"
   ]
  },
  {
   "cell_type": "code",
   "execution_count": 33,
   "id": "ecd6e9f7-b905-4a9b-ae14-1278e516eedd",
   "metadata": {},
   "outputs": [
    {
     "name": "stdout",
     "output_type": "stream",
     "text": [
      "Images without masks: set()\n",
      "Masks without images: {'acb0fd30b83d_01_aug3', '54ee69d7d5e5_04_aug2', 'c9f382c7349e_01_aug3'}\n"
     ]
    }
   ],
   "source": [
    "img_names = set([os.path.splitext(f)[0] for f in val_images])\n",
    "mask_names = set([os.path.splitext(f)[0] for f in val_masks])\n",
    "\n",
    "print(\"Images without masks:\", img_names - mask_names)\n",
    "print(\"Masks without images:\", mask_names - img_names)"
   ]
  },
  {
   "cell_type": "code",
   "execution_count": null,
   "id": "6a4d413a-27d7-42cf-b321-7ec7524afe67",
   "metadata": {},
   "outputs": [],
   "source": []
  }
 ],
 "metadata": {
  "kernelspec": {
   "display_name": "Python 3 (ipykernel)",
   "language": "python",
   "name": "python3"
  },
  "language_info": {
   "codemirror_mode": {
    "name": "ipython",
    "version": 3
   },
   "file_extension": ".py",
   "mimetype": "text/x-python",
   "name": "python",
   "nbconvert_exporter": "python",
   "pygments_lexer": "ipython3",
   "version": "3.12.1"
  }
 },
 "nbformat": 4,
 "nbformat_minor": 5
}
